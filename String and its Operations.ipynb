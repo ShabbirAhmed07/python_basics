{
 "cells": [
  {
   "cell_type": "code",
   "execution_count": null,
   "id": "selective-adolescent",
   "metadata": {},
   "outputs": [],
   "source": [
    "# remove duplicates from string"
   ]
  },
  {
   "cell_type": "code",
   "execution_count": 102,
   "id": "bibliographic-thriller",
   "metadata": {},
   "outputs": [
    {
     "name": "stdout",
     "output_type": "stream",
     "text": [
      "['H', 'i', 'e', 'h', 'l', 'o']\n"
     ]
    }
   ],
   "source": [
    "s = 'Hiiieeeeehhheelllloooo'\n",
    "new_s = ''\n",
    "\n",
    "for i in s:\n",
    "    \n",
    "    if i not in new_s:\n",
    "        \n",
    "        new_s += i\n",
    "\n",
    "#print(new_s)\n",
    "print(list(new_s))\n",
    "\n"
   ]
  },
  {
   "cell_type": "code",
   "execution_count": 103,
   "id": "hispanic-report",
   "metadata": {},
   "outputs": [
    {
     "name": "stdout",
     "output_type": "stream",
     "text": [
      "H\n"
     ]
    }
   ],
   "source": [
    "i = 0\n",
    "S = 'Heelllooo'\n",
    "s = ''\n",
    "\n",
    "for x in S:\n",
    "    if S[i] == x:\n",
    "        \n",
    "        s += x\n",
    "        \n",
    "print(s)\n",
    "        "
   ]
  },
  {
   "cell_type": "code",
   "execution_count": 106,
   "id": "entitled-dubai",
   "metadata": {},
   "outputs": [
    {
     "name": "stdout",
     "output_type": "stream",
     "text": [
      "eelllooo\n"
     ]
    }
   ],
   "source": [
    "i = 0\n",
    "S = 'Heelllooo'\n",
    "s = ''\n",
    "\n",
    "for x in S:\n",
    "    if S[i] != x:\n",
    "        \n",
    "        s += x\n",
    "        \n",
    "print(s)\n",
    "        "
   ]
  },
  {
   "cell_type": "code",
   "execution_count": 107,
   "id": "confidential-production",
   "metadata": {},
   "outputs": [
    {
     "name": "stdout",
     "output_type": "stream",
     "text": [
      "Helo\n"
     ]
    }
   ],
   "source": [
    "i = 0\n",
    "S = 'Heelllooo'\n",
    "s = ''\n",
    "\n",
    "for x in S:\n",
    "    \n",
    "    if x not in s:\n",
    "        \n",
    "        s += x\n",
    "        \n",
    "print(s)\n",
    "        "
   ]
  },
  {
   "cell_type": "code",
   "execution_count": 3,
   "id": "pleasant-bones",
   "metadata": {},
   "outputs": [
    {
     "name": "stdout",
     "output_type": "stream",
     "text": [
      " Enteraabbcadww\n"
     ]
    }
   ],
   "source": [
    "inp = input( ' Enter')\n",
    "\n",
    "i = 0\n",
    "\n",
    "s1 = ''\n",
    "\n",
    "for x in inp:\n",
    "    # loop will print first occurence of every alphabet in string\n",
    "    if inp.index(x) == i:\n",
    "        s1 += inp\n",
    "        \n",
    "    i += 1\n",
    "\n",
    "        "
   ]
  },
  {
   "cell_type": "code",
   "execution_count": 111,
   "id": "elder-wesley",
   "metadata": {},
   "outputs": [
    {
     "name": "stdout",
     "output_type": "stream",
     "text": [
      "Enter String:  hadahaa\n",
      "Output:  had\n"
     ]
    }
   ],
   "source": [
    "inp = input( 'Enter String:  ')\n",
    "\n",
    "result = 0\n",
    "\n",
    "s1 = ''\n",
    "\n",
    "for x in inp:\n",
    "    # loop will print first occurence of every alphabet in string\n",
    "    if inp.index(x) == result:\n",
    "        s1 += x\n",
    "        \n",
    "    result += 1\n",
    "    \n",
    "print('Output: ',s1)\n",
    "\n",
    "        "
   ]
  },
  {
   "cell_type": "code",
   "execution_count": 7,
   "id": "brave-walker",
   "metadata": {},
   "outputs": [
    {
     "data": {
      "text/plain": [
       "'tr'"
      ]
     },
     "execution_count": 7,
     "metadata": {},
     "output_type": "execute_result"
    }
   ],
   "source": [
    "str = 'computer'\n",
    "\n",
    "str[5::2]"
   ]
  },
  {
   "cell_type": "code",
   "execution_count": 8,
   "id": "warming-phenomenon",
   "metadata": {},
   "outputs": [
    {
     "data": {
      "text/plain": [
       "'cmue'"
      ]
     },
     "execution_count": 8,
     "metadata": {},
     "output_type": "execute_result"
    }
   ],
   "source": [
    "str[::2]"
   ]
  },
  {
   "cell_type": "code",
   "execution_count": 9,
   "id": "narrow-hypothetical",
   "metadata": {},
   "outputs": [
    {
     "data": {
      "text/plain": [
       "'retupmoc'"
      ]
     },
     "execution_count": 9,
     "metadata": {},
     "output_type": "execute_result"
    }
   ],
   "source": [
    "str[::-1]"
   ]
  },
  {
   "cell_type": "code",
   "execution_count": 10,
   "id": "unique-chemistry",
   "metadata": {},
   "outputs": [
    {
     "ename": "AttributeError",
     "evalue": "'str' object has no attribute 'reversed'",
     "output_type": "error",
     "traceback": [
      "\u001b[1;31m---------------------------------------------------------------------------\u001b[0m",
      "\u001b[1;31mAttributeError\u001b[0m                            Traceback (most recent call last)",
      "\u001b[1;32m<ipython-input-10-9d15a02b8cf4>\u001b[0m in \u001b[0;36m<module>\u001b[1;34m\u001b[0m\n\u001b[1;32m----> 1\u001b[1;33m \u001b[0mstr\u001b[0m\u001b[1;33m.\u001b[0m\u001b[0mreversed\u001b[0m\u001b[1;33m(\u001b[0m\u001b[1;33m)\u001b[0m\u001b[1;33m\u001b[0m\u001b[1;33m\u001b[0m\u001b[0m\n\u001b[0m",
      "\u001b[1;31mAttributeError\u001b[0m: 'str' object has no attribute 'reversed'"
     ]
    }
   ],
   "source": [
    "str.reversed()"
   ]
  },
  {
   "cell_type": "code",
   "execution_count": 11,
   "id": "novel-configuration",
   "metadata": {},
   "outputs": [
    {
     "data": {
      "text/plain": [
       "<reversed at 0x1c4400689a0>"
      ]
     },
     "execution_count": 11,
     "metadata": {},
     "output_type": "execute_result"
    }
   ],
   "source": [
    "reversed(str)"
   ]
  },
  {
   "cell_type": "code",
   "execution_count": 12,
   "id": "aboriginal-pierce",
   "metadata": {},
   "outputs": [],
   "source": [
    "r = reversed(str)"
   ]
  },
  {
   "cell_type": "code",
   "execution_count": 13,
   "id": "russian-sender",
   "metadata": {},
   "outputs": [
    {
     "data": {
      "text/plain": [
       "<reversed at 0x1c440068940>"
      ]
     },
     "execution_count": 13,
     "metadata": {},
     "output_type": "execute_result"
    }
   ],
   "source": [
    "r"
   ]
  },
  {
   "cell_type": "code",
   "execution_count": 26,
   "id": "conservative-vanilla",
   "metadata": {},
   "outputs": [
    {
     "name": "stdout",
     "output_type": "stream",
     "text": [
      "compute\n",
      "comput\n",
      "compu\n",
      "comp\n",
      "com\n",
      "co\n",
      "c\n"
     ]
    }
   ],
   "source": [
    "print(str[:-1])\n",
    "print(str[:-2])\n",
    "print(str[:-3])\n",
    "print(str[:-4])\n",
    "print(str[:-5])\n",
    "print(str[:-6])\n",
    "print(str[:-7])"
   ]
  },
  {
   "cell_type": "code",
   "execution_count": 23,
   "id": "presidential-rebel",
   "metadata": {},
   "outputs": [
    {
     "data": {
      "text/plain": [
       "'computer'"
      ]
     },
     "execution_count": 23,
     "metadata": {},
     "output_type": "execute_result"
    }
   ],
   "source": [
    "str\n"
   ]
  },
  {
   "cell_type": "code",
   "execution_count": 25,
   "id": "worthy-superior",
   "metadata": {},
   "outputs": [
    {
     "name": "stdout",
     "output_type": "stream",
     "text": [
      "r\n",
      "er\n",
      "ter\n",
      "uter\n",
      "puter\n",
      "mputer\n",
      "omputer\n"
     ]
    }
   ],
   "source": [
    "print(str[-1:])\n",
    "print(str[-2:])\n",
    "print(str[-3:])\n",
    "print(str[-4:])\n",
    "print(str[-5:])\n",
    "print(str[-6:])\n",
    "print(str[-7:])"
   ]
  },
  {
   "cell_type": "code",
   "execution_count": 28,
   "id": "japanese-connecticut",
   "metadata": {},
   "outputs": [
    {
     "name": "stdout",
     "output_type": "stream",
     "text": [
      "Enter input: h r u\n",
      "0\n",
      "1\n",
      "1\n",
      "2\n",
      "2\n"
     ]
    }
   ],
   "source": [
    "# count number of words in sentance\n",
    "\n",
    "str = input('Enter input: ')\n",
    "\n",
    "words = 0\n",
    "character = 0\n",
    "\n",
    "for i in str:\n",
    "    \n",
    "    if i == ' ':\n",
    "        words = words + 1\n",
    "        \n",
    "    \n",
    "    #print(words)\n",
    "    \n",
    "    "
   ]
  },
  {
   "cell_type": "code",
   "execution_count": 29,
   "id": "objective-cardiff",
   "metadata": {},
   "outputs": [
    {
     "name": "stdout",
     "output_type": "stream",
     "text": [
      "Enter input: h r u\n",
      "Number of Words:  2\n"
     ]
    }
   ],
   "source": [
    "# count number of words in sentance\n",
    "\n",
    "str = input('Enter input: ')\n",
    "\n",
    "words = 0\n",
    "character = 0\n",
    "\n",
    "for i in str:\n",
    "    \n",
    "    if i == ' ':\n",
    "        words = words + 1\n",
    " \n",
    "        # for space count only\n",
    "print('Number of Words: ', words)"
   ]
  },
  {
   "cell_type": "markdown",
   "id": "satellite-account",
   "metadata": {},
   "source": [
    "   -   Count number of words in sentance\n",
    "   -   User enter any oput instead of space. or program should run"
   ]
  },
  {
   "cell_type": "code",
   "execution_count": 39,
   "id": "signed-madrid",
   "metadata": {},
   "outputs": [
    {
     "name": "stdout",
     "output_type": "stream",
     "text": [
      "Enter input: hi   how   are    you\n",
      "Number of Words:  4\n"
     ]
    }
   ],
   "source": [
    "# count number of words in sentance\n",
    "\n",
    "# user enter any oput instead of space. or program should run\n",
    "\n",
    "str = input('Enter input: ')\n",
    "\n",
    "words = 0\n",
    "character = 0\n",
    "\n",
    "for i in str:\n",
    "    \n",
    "    if i == ' ':\n",
    "        \n",
    "        if character != 0:\n",
    "            words += 1\n",
    "            \n",
    "        character = 0\n",
    "        \n",
    "    else:\n",
    "        character += 1\n",
    "\n",
    "if(character != 0):\n",
    "    character += 1\n",
    "        \n",
    "# for space count only\n",
    "print('Number of Words: ', character)\n"
   ]
  },
  {
   "cell_type": "code",
   "execution_count": 40,
   "id": "fleet-johnston",
   "metadata": {},
   "outputs": [],
   "source": [
    "# using split ()"
   ]
  },
  {
   "cell_type": "code",
   "execution_count": 41,
   "id": "broadband-gambling",
   "metadata": {},
   "outputs": [
    {
     "name": "stdout",
     "output_type": "stream",
     "text": [
      "Enter input: hi how are you\n"
     ]
    },
    {
     "ename": "TypeError",
     "evalue": "must be str or None, not int",
     "output_type": "error",
     "traceback": [
      "\u001b[1;31m---------------------------------------------------------------------------\u001b[0m",
      "\u001b[1;31mTypeError\u001b[0m                                 Traceback (most recent call last)",
      "\u001b[1;32m<ipython-input-41-d42e79c6c93d>\u001b[0m in \u001b[0;36m<module>\u001b[1;34m\u001b[0m\n\u001b[0;32m      1\u001b[0m \u001b[0mstr\u001b[0m \u001b[1;33m=\u001b[0m \u001b[0minput\u001b[0m\u001b[1;33m(\u001b[0m\u001b[1;34m'Enter input: '\u001b[0m\u001b[1;33m)\u001b[0m\u001b[1;33m\u001b[0m\u001b[1;33m\u001b[0m\u001b[0m\n\u001b[0;32m      2\u001b[0m \u001b[1;33m\u001b[0m\u001b[0m\n\u001b[1;32m----> 3\u001b[1;33m \u001b[0mstr\u001b[0m\u001b[1;33m.\u001b[0m\u001b[0msplit\u001b[0m\u001b[1;33m(\u001b[0m\u001b[0mlen\u001b[0m\u001b[1;33m(\u001b[0m\u001b[0mstr\u001b[0m\u001b[1;33m)\u001b[0m\u001b[1;33m)\u001b[0m\u001b[1;33m\u001b[0m\u001b[1;33m\u001b[0m\u001b[0m\n\u001b[0m",
      "\u001b[1;31mTypeError\u001b[0m: must be str or None, not int"
     ]
    }
   ],
   "source": [
    "str = input('Enter input: ')\n",
    "\n",
    "str.split(len(str))"
   ]
  },
  {
   "cell_type": "code",
   "execution_count": 43,
   "id": "simple-scotland",
   "metadata": {},
   "outputs": [
    {
     "name": "stdout",
     "output_type": "stream",
     "text": [
      "Enter input: hi how are u\n",
      "4\n"
     ]
    }
   ],
   "source": [
    "str = input('Enter input: ')\n",
    "\n",
    "s = str.split()\n",
    "\n",
    "print(len(s))"
   ]
  },
  {
   "cell_type": "markdown",
   "id": "lined-style",
   "metadata": {},
   "source": [
    "- Sum of all numbers in a string"
   ]
  },
  {
   "cell_type": "code",
   "execution_count": 44,
   "id": "mysterious-discretion",
   "metadata": {},
   "outputs": [
    {
     "name": "stdout",
     "output_type": "stream",
     "text": [
      "Enter String: qja15hshs78jj9j\n",
      "0\n"
     ]
    }
   ],
   "source": [
    "\n",
    "def sum_of_all_munbers(s):\n",
    "    \n",
    "    num = 0\n",
    "    sum = 0\n",
    "    \n",
    "    for i in str:\n",
    "        \n",
    "        if i.isdigit():\n",
    "            num = num *10 + int()\n",
    "            \n",
    "        else:\n",
    "            \n",
    "            sum = sum + num\n",
    "            \n",
    "    return sum\n",
    "\n",
    "s = input('Enter String: ')\n",
    "\n",
    "print(sum_of_all_munbers(s))\n",
    "            "
   ]
  },
  {
   "cell_type": "code",
   "execution_count": 51,
   "id": "solar-lambda",
   "metadata": {},
   "outputs": [
    {
     "name": "stdout",
     "output_type": "stream",
     "text": [
      "Enter String: 78w78\n",
      "15\n"
     ]
    }
   ],
   "source": [
    "\n",
    "def sum_of_all_munbers(s):\n",
    "    \n",
    "    num = 0\n",
    "    sum = 0\n",
    "    \n",
    "    for i in s:\n",
    "        \n",
    "        if i.isdigit():\n",
    "            num = num + int(i)\n",
    "            \n",
    "        else:\n",
    "            \n",
    "            sum = sum + num\n",
    "            \n",
    "    return sum\n",
    "\n",
    "s = input('Enter String: ')\n",
    "\n",
    "print(sum_of_all_munbers(s))\n",
    "            "
   ]
  },
  {
   "cell_type": "code",
   "execution_count": 53,
   "id": "existing-speaking",
   "metadata": {},
   "outputs": [
    {
     "name": "stdout",
     "output_type": "stream",
     "text": [
      "Enter String: hi how are u\n",
      "hi how are u\n"
     ]
    }
   ],
   "source": [
    "# Replace Vowels with given char\n",
    "\n",
    "str = input('Enter String: ')\n",
    "\n",
    "replace = input('Enter Char to replace: ')\n",
    "\n",
    "#vowels = ('a','e','i','o','u')\n",
    "\n",
    "for i in str:\n",
    "    \n",
    "    if i == vowels:\n",
    "        #x = txt.replace(\"bananas\", \"apples\")\n",
    "        \n",
    "        i = replace(str)\n",
    "        \n",
    "print(str)\n",
    "\n",
    "        \n",
    "        "
   ]
  },
  {
   "cell_type": "code",
   "execution_count": 54,
   "id": "interstate-rally",
   "metadata": {},
   "outputs": [
    {
     "name": "stdout",
     "output_type": "stream",
     "text": [
      "Enter String: hello\n",
      "Enter Char to replace: #\n",
      "h\n",
      "#\n",
      "l\n",
      "l\n",
      "#\n"
     ]
    }
   ],
   "source": [
    "# Replace Vowels with given char\n",
    "\n",
    "str = input('Enter String: ')\n",
    "\n",
    "replace = input('Enter Char to replace: ')\n",
    "\n",
    "#vowels = ('a','e','i','o','u')\n",
    "\n",
    "for i in str:\n",
    "    \n",
    "    if i in 'aeiou':\n",
    "        \n",
    "        print(replace)\n",
    "        \n",
    "    else:\n",
    "        print(i)\n",
    "\n",
    "        \n",
    "        "
   ]
  },
  {
   "cell_type": "code",
   "execution_count": 59,
   "id": "centered-german",
   "metadata": {},
   "outputs": [
    {
     "name": "stdout",
     "output_type": "stream",
     "text": [
      "Enter String: wadwerergeg\n",
      "Enter Char to replace: @\n",
      "w@dw@r@rg@g"
     ]
    }
   ],
   "source": [
    "# Replace Vowels with given char\n",
    "\n",
    "str = input('Enter String: ')\n",
    "replace = input('Enter Char to replace: ')\n",
    "\n",
    "for i in str:\n",
    "    \n",
    "    if i in 'aeiou':\n",
    "        print(replace, end = '')\n",
    "        \n",
    "    else:\n",
    "        print(i, end = '')"
   ]
  },
  {
   "cell_type": "code",
   "execution_count": 61,
   "id": "brutal-semester",
   "metadata": {},
   "outputs": [
    {
     "name": "stdout",
     "output_type": "stream",
     "text": [
      "Enter String: hello\n",
      "Enter Char to replace: 2\n",
      "h2ll2\n"
     ]
    }
   ],
   "source": [
    "# Replace Vowels with given char\n",
    "\n",
    "# use result in further steps\n",
    "\n",
    "str = input('Enter String: ')\n",
    "replace = input('Enter Char to replace: ')\n",
    "\n",
    "result = ''\n",
    "\n",
    "for i in str:\n",
    "    \n",
    "    if i in 'aeiou':\n",
    "        result = result + replace\n",
    "        \n",
    "    else:\n",
    "        result = result + i\n",
    "        \n",
    "print(result)"
   ]
  },
  {
   "cell_type": "code",
   "execution_count": 62,
   "id": "normal-adelaide",
   "metadata": {},
   "outputs": [
    {
     "name": "stdout",
     "output_type": "stream",
     "text": [
      "Enter String: HELLO\n",
      "Enter Char to replace: @\n",
      "HELLO\n"
     ]
    }
   ],
   "source": [
    "# Replace Vowels with given char\n",
    "\n",
    "# use result in further steps\n",
    "\n",
    "str = input('Enter String: ')\n",
    "replace = input('Enter Char to replace: ')\n",
    "\n",
    "result = ''\n",
    "\n",
    "for i in str:\n",
    "    \n",
    "    if i in 'aeiou':\n",
    "        result = result + replace\n",
    "        \n",
    "    else:\n",
    "        result = result + i\n",
    "        \n",
    "print(result)"
   ]
  },
  {
   "cell_type": "code",
   "execution_count": 66,
   "id": "answering-hungary",
   "metadata": {},
   "outputs": [
    {
     "name": "stdout",
     "output_type": "stream",
     "text": [
      "Enter String: Hello\n",
      "Enter Char to replace: @\n",
      "H@ll@\n"
     ]
    }
   ],
   "source": [
    "# Replace Vowels with given char small/ capital\n",
    "\n",
    "# use result in further steps\n",
    "\n",
    "str = input('Enter String: ')\n",
    "replace = input('Enter Char to replace: ')\n",
    "\n",
    "result = ''\n",
    "\n",
    "for i in str:\n",
    "    \n",
    "    if i in 'aeiou':\n",
    "        result = result + replace\n",
    "        \n",
    "    else:\n",
    "        result = result + i\n",
    "        \n",
    "print(result)"
   ]
  },
  {
   "cell_type": "markdown",
   "id": "exterior-origin",
   "metadata": {},
   "source": [
    "- FINAL Solution"
   ]
  },
  {
   "cell_type": "code",
   "execution_count": 70,
   "id": "vital-dubai",
   "metadata": {},
   "outputs": [
    {
     "name": "stdout",
     "output_type": "stream",
     "text": [
      "Enter String: HeLLO I HAVE an ISSUE\n",
      "Enter Char to replace: @\n",
      "H@LL@ @ H@V@ @n @SS@@\n"
     ]
    }
   ],
   "source": [
    "# Replace Vowels with given char small/ capital\n",
    "\n",
    "# use result in further steps\n",
    "\n",
    "str = input('Enter String: ')\n",
    "replace = input('Enter Char to replace: ')\n",
    "\n",
    "result = ''\n",
    "\n",
    "for i in str:\n",
    "    \n",
    "    if i in 'aeiouAEIOU':\n",
    "        result = result + replace\n",
    "        \n",
    "    else:\n",
    "        result = result + i\n",
    "        \n",
    "print(result)"
   ]
  },
  {
   "cell_type": "code",
   "execution_count": 71,
   "id": "structural-clause",
   "metadata": {},
   "outputs": [
    {
     "name": "stdout",
     "output_type": "stream",
     "text": [
      "Enter String: HELLO\n",
      "Enter Char to replace: @\n",
      "H@LL@\n"
     ]
    }
   ],
   "source": [
    "# Replace Vowels with given char small/ capital\n",
    "\n",
    "# use result in further steps\n",
    "\n",
    "str = input('Enter String: ')\n",
    "replace = input('Enter Char to replace: ')\n",
    "v = 'aeiouAEIOU'\n",
    "result = ''\n",
    "\n",
    "for i in str:\n",
    "    \n",
    "    if i in v:\n",
    "        result = result + replace\n",
    "        \n",
    "    else:\n",
    "        result = result + i\n",
    "        \n",
    "print(result)"
   ]
  },
  {
   "cell_type": "markdown",
   "id": "bulgarian-invasion",
   "metadata": {},
   "source": [
    "- Multiplication of two strings"
   ]
  },
  {
   "cell_type": "code",
   "execution_count": 73,
   "id": "wicked-salad",
   "metadata": {},
   "outputs": [
    {
     "name": "stdout",
     "output_type": "stream",
     "text": [
      "Enter First: 12\n",
      "Enter Second: 12\n"
     ]
    },
    {
     "ename": "TypeError",
     "evalue": "can't multiply sequence by non-int of type 'str'",
     "output_type": "error",
     "traceback": [
      "\u001b[1;31m---------------------------------------------------------------------------\u001b[0m",
      "\u001b[1;31mTypeError\u001b[0m                                 Traceback (most recent call last)",
      "\u001b[1;32m<ipython-input-73-19694a5dc1c0>\u001b[0m in \u001b[0;36m<module>\u001b[1;34m\u001b[0m\n\u001b[0;32m      5\u001b[0m \u001b[0ms2\u001b[0m \u001b[1;33m=\u001b[0m \u001b[0minput\u001b[0m\u001b[1;33m(\u001b[0m\u001b[1;34m'Enter Second: '\u001b[0m\u001b[1;33m)\u001b[0m\u001b[1;33m\u001b[0m\u001b[1;33m\u001b[0m\u001b[0m\n\u001b[0;32m      6\u001b[0m \u001b[1;33m\u001b[0m\u001b[0m\n\u001b[1;32m----> 7\u001b[1;33m \u001b[0mprint\u001b[0m\u001b[1;33m(\u001b[0m\u001b[0ms1\u001b[0m\u001b[1;33m*\u001b[0m\u001b[0ms2\u001b[0m\u001b[1;33m)\u001b[0m\u001b[1;33m\u001b[0m\u001b[1;33m\u001b[0m\u001b[0m\n\u001b[0m\u001b[0;32m      8\u001b[0m \u001b[1;33m\u001b[0m\u001b[0m\n",
      "\u001b[1;31mTypeError\u001b[0m: can't multiply sequence by non-int of type 'str'"
     ]
    }
   ],
   "source": [
    "# without int function\n",
    "\n",
    "s1 = input('Enter First: ')\n",
    "\n",
    "s2 = input('Enter Second: ')\n",
    "\n",
    "print(s1*s2)\n",
    "\n"
   ]
  },
  {
   "cell_type": "code",
   "execution_count": 74,
   "id": "multiple-municipality",
   "metadata": {},
   "outputs": [
    {
     "name": "stdout",
     "output_type": "stream",
     "text": [
      "Enter First: 12\n",
      "Enter Second: 12\n",
      "144\n"
     ]
    }
   ],
   "source": [
    "# without int function\n",
    "\n",
    "s1 = input('Enter First: ')\n",
    "\n",
    "s2 = input('Enter Second: ')\n",
    "\n",
    "print(int(s1)*int(s2))\n",
    "\n"
   ]
  },
  {
   "cell_type": "markdown",
   "id": "effective-thumbnail",
   "metadata": {},
   "source": [
    "## Anagrams"
   ]
  },
  {
   "cell_type": "code",
   "execution_count": 76,
   "id": "violent-investor",
   "metadata": {},
   "outputs": [],
   "source": [
    "# string with same alphabates\n",
    "\n",
    "# eat, tea, tan, ate, nat, bat\n",
    "\n",
    "# aet aet ant aet ant abt\n",
    "\n",
    "# [[eat,tea,ate], [tan,nat], [bat]]"
   ]
  },
  {
   "cell_type": "code",
   "execution_count": 77,
   "id": "considerable-chambers",
   "metadata": {},
   "outputs": [
    {
     "name": "stdout",
     "output_type": "stream",
     "text": [
      "['a', 'e', 't']\n",
      "['a', 'e', 't']\n",
      "['a', 'n', 't']\n",
      "['a', 'e', 't']\n",
      "['a', 'n', 't']\n",
      "['a', 'b', 't']\n"
     ]
    }
   ],
   "source": [
    "str = ['eat', 'tea', 'tan', 'ate', 'nat', 'bat']\n",
    "\n",
    "dict = {}\n",
    "\n",
    "for i in str:\n",
    "    \n",
    "    w = (sorted(i))\n",
    "    \n",
    "    print(w)\n",
    "    \n",
    "    \n",
    "    "
   ]
  },
  {
   "cell_type": "code",
   "execution_count": 81,
   "id": "inner-cathedral",
   "metadata": {},
   "outputs": [
    {
     "name": "stdout",
     "output_type": "stream",
     "text": [
      "{'aet': ['eat', 'tea', 'ate'], 'ant': ['tan', 'nat'], 'abt': ['bat']}\n"
     ]
    }
   ],
   "source": [
    "str = ['eat', 'tea', 'tan', 'ate', 'nat', 'bat']\n",
    "\n",
    "dic = {}\n",
    "\n",
    "for i in str:\n",
    "    \n",
    "    w = ''.join(sorted(i))\n",
    "    #print(w)\n",
    "    \n",
    "    if w in dic:\n",
    "        dic[w].append(i)\n",
    "        \n",
    "    else:\n",
    "        dic[w] = [i]\n",
    "        \n",
    "print(dic)"
   ]
  },
  {
   "cell_type": "code",
   "execution_count": 83,
   "id": "loving-disney",
   "metadata": {},
   "outputs": [
    {
     "name": "stdout",
     "output_type": "stream",
     "text": [
      "[['eat', 'tea', 'ate'], ['tan', 'nat'], ['bat']]\n"
     ]
    }
   ],
   "source": [
    "str = ['eat', 'tea', 'tan', 'ate', 'nat', 'bat']\n",
    "\n",
    "dic = {}\n",
    "\n",
    "for i in str:\n",
    "    \n",
    "    w = ''.join(sorted(i))\n",
    "    #print(w)\n",
    "    \n",
    "    if w in dic:\n",
    "        dic[w].append(i)\n",
    "        \n",
    "    else:\n",
    "        dic[w] = [i]\n",
    "        \n",
    "print(list(dic.values()))"
   ]
  },
  {
   "cell_type": "code",
   "execution_count": 84,
   "id": "enabling-trouble",
   "metadata": {},
   "outputs": [
    {
     "name": "stdout",
     "output_type": "stream",
     "text": [
      "['aet', 'ant', 'abt']\n"
     ]
    }
   ],
   "source": [
    "str = ['eat', 'tea', 'tan', 'ate', 'nat', 'bat']\n",
    "\n",
    "dic = {}\n",
    "\n",
    "for i in str:\n",
    "    \n",
    "    w = ''.join(sorted(i))\n",
    "    #print(w)\n",
    "    \n",
    "    if w in dic:\n",
    "        dic[w].append(i)\n",
    "        \n",
    "    else:\n",
    "        dic[w] = [i]\n",
    "        \n",
    "print(list(dic.keys()))"
   ]
  },
  {
   "cell_type": "code",
   "execution_count": 86,
   "id": "responsible-alexander",
   "metadata": {},
   "outputs": [
    {
     "name": "stdout",
     "output_type": "stream",
     "text": [
      "['bat']\n"
     ]
    }
   ],
   "source": [
    "str = ['eat', 'tea', 'tan', 'ate', 'nat', 'bat']\n",
    "\n",
    "dic = {}\n",
    "\n",
    "for i in str:\n",
    "    \n",
    "    w = ''.join(sorted(i))\n",
    "    #print(w)\n",
    "    \n",
    "    if w in dic:\n",
    "        dic.append(i)\n",
    "        \n",
    "    else:\n",
    "        dic = [i]\n",
    "        \n",
    "print(dic)"
   ]
  },
  {
   "cell_type": "code",
   "execution_count": 87,
   "id": "sealed-sculpture",
   "metadata": {},
   "outputs": [
    {
     "name": "stdout",
     "output_type": "stream",
     "text": [
      "{'aet': ['eat', 'tea', 'ate'], 'ant': ['tan', 'nat'], 'abt': ['bat']}\n"
     ]
    }
   ],
   "source": [
    "str = ['eat', 'tea', 'tan', 'ate', 'nat', 'bat']\n",
    "\n",
    "dic = {}\n",
    "\n",
    "for i in str:\n",
    "    \n",
    "    w = ''.join(sorted(i))\n",
    "    #print(w)\n",
    "    \n",
    "    if w in dic:\n",
    "        dic[w].append(i)\n",
    "        \n",
    "    else:\n",
    "        dic[w] = [i]\n",
    "        \n",
    "print(dic)"
   ]
  },
  {
   "cell_type": "markdown",
   "id": "bronze-factory",
   "metadata": {},
   "source": [
    "## Anagram or not"
   ]
  },
  {
   "cell_type": "code",
   "execution_count": 88,
   "id": "decimal-press",
   "metadata": {},
   "outputs": [
    {
     "name": "stdout",
     "output_type": "stream",
     "text": [
      "Enter: listen\n",
      "Enter Second: silent\n",
      "Anagram\n"
     ]
    }
   ],
   "source": [
    "a = input('Enter: ')\n",
    "\n",
    "b = input('Enter Second: ')\n",
    "\n",
    "if (sorted(a) == sorted(b)):\n",
    "    print('Anagram')\n",
    "else:\n",
    "    print('Not Anagram')"
   ]
  },
  {
   "cell_type": "code",
   "execution_count": 96,
   "id": "located-shaft",
   "metadata": {},
   "outputs": [
    {
     "name": "stdout",
     "output_type": "stream",
     "text": [
      "Enter: silent\n",
      "['e', 'i', 'l', 'n', 's', 't']\n",
      "\n",
      "\n",
      "Enter Second: listen\n",
      "['e', 'i', 'l', 'n', 's', 't']\n",
      "\n",
      "\n",
      "Anagram\n"
     ]
    }
   ],
   "source": [
    "a = input('Enter: ')\n",
    "print(sorted(a))\n",
    "print('\\n')\n",
    "\n",
    "b = input('Enter Second: ')\n",
    "print(sorted(b))\n",
    "print('\\n')\n",
    "\n",
    "if (sorted(a) == sorted(b)):\n",
    "    print('Anagram')\n",
    "else:\n",
    "    print('Not Anagram')"
   ]
  },
  {
   "cell_type": "code",
   "execution_count": null,
   "id": "aerial-marina",
   "metadata": {},
   "outputs": [],
   "source": []
  },
  {
   "cell_type": "markdown",
   "id": "rising-praise",
   "metadata": {},
   "source": [
    "spam = ['a', 'b', 'c', 'd']\n",
    "\n",
    "#spam[int(int('3' * 2) / 11)]\n",
    "\n",
    "spam[(int('3' * 2))]\n",
    "\n",
    "spam[int(int('3' * 2) / 11)]"
   ]
  },
  {
   "cell_type": "code",
   "execution_count": null,
   "id": "settled-hayes",
   "metadata": {},
   "outputs": [],
   "source": []
  }
 ],
 "metadata": {
  "kernelspec": {
   "display_name": "Python 3",
   "language": "python",
   "name": "python3"
  },
  "language_info": {
   "codemirror_mode": {
    "name": "ipython",
    "version": 3
   },
   "file_extension": ".py",
   "mimetype": "text/x-python",
   "name": "python",
   "nbconvert_exporter": "python",
   "pygments_lexer": "ipython3",
   "version": "3.8.5"
  }
 },
 "nbformat": 4,
 "nbformat_minor": 5
}
