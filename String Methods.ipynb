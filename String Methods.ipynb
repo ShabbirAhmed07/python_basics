{
 "cells": [
  {
   "cell_type": "markdown",
   "id": "medium-angola",
   "metadata": {},
   "source": [
    "## String Methods"
   ]
  },
  {
   "cell_type": "code",
   "execution_count": 1,
   "id": "surgical-consortium",
   "metadata": {},
   "outputs": [],
   "source": [
    "# capitalize()"
   ]
  },
  {
   "cell_type": "markdown",
   "id": "coated-panel",
   "metadata": {},
   "source": [
    "string.capitalize()"
   ]
  },
  {
   "cell_type": "code",
   "execution_count": 5,
   "id": "painted-december",
   "metadata": {},
   "outputs": [],
   "source": [
    "string = \"python is AWesome.\""
   ]
  },
  {
   "cell_type": "code",
   "execution_count": 8,
   "id": "decreased-nerve",
   "metadata": {},
   "outputs": [
    {
     "data": {
      "text/plain": [
       "'Python is awesome.'"
      ]
     },
     "execution_count": 8,
     "metadata": {},
     "output_type": "execute_result"
    }
   ],
   "source": [
    "string.capitalize()"
   ]
  },
  {
   "cell_type": "code",
   "execution_count": 11,
   "id": "metric-franklin",
   "metadata": {},
   "outputs": [
    {
     "name": "stdout",
     "output_type": "stream",
     "text": [
      "Old String:  python is AWesome\n",
      "New String:  Python is awesome\n"
     ]
    }
   ],
   "source": [
    "s = 'python is AWesome'\n",
    "\n",
    "new_s = s.capitalize()\n",
    "\n",
    "print('Old String: ',s)\n",
    "print('New String: ',new_s)"
   ]
  },
  {
   "cell_type": "code",
   "execution_count": 12,
   "id": "figured-headset",
   "metadata": {},
   "outputs": [],
   "source": [
    "# String center()"
   ]
  },
  {
   "cell_type": "code",
   "execution_count": 34,
   "id": "weekly-insulin",
   "metadata": {},
   "outputs": [
    {
     "name": "stdout",
     "output_type": "stream",
     "text": [
      "Old String: python is AWesome \n",
      "\n",
      "New String:     python is AWesome    \n"
     ]
    }
   ],
   "source": [
    "s = 'python is AWesome'\n",
    "\n",
    "new_s = s.center(25)\n",
    "\n",
    "print('Old String:',s,'\\n')\n",
    "\n",
    "print('New String:',new_s)"
   ]
  },
  {
   "cell_type": "code",
   "execution_count": 37,
   "id": "reduced-equality",
   "metadata": {},
   "outputs": [
    {
     "name": "stdout",
     "output_type": "stream",
     "text": [
      "Old String:\n",
      "     python is AWesome \n",
      "\n",
      "New String: ###########python is AWesome############\n"
     ]
    }
   ],
   "source": [
    "s = 'python is AWesome'\n",
    "\n",
    "new_s = s.center(40,'#')\n",
    "\n",
    "print('Old String:\\n    ',s,'\\n')\n",
    "\n",
    "print('New String:',new_s)"
   ]
  },
  {
   "cell_type": "code",
   "execution_count": 39,
   "id": "sharing-deficit",
   "metadata": {},
   "outputs": [],
   "source": [
    "# casefold() - The casefold() method removes all case distinctions present in a string. \n",
    "#            - It is used for caseless matching, i.e. ignores cases when comparing."
   ]
  },
  {
   "cell_type": "code",
   "execution_count": 43,
   "id": "lasting-jacksonville",
   "metadata": {},
   "outputs": [
    {
     "data": {
      "text/plain": [
       "'python is awesome'"
      ]
     },
     "execution_count": 43,
     "metadata": {},
     "output_type": "execute_result"
    }
   ],
   "source": [
    "str = \"PYTHON is AWEsome\"\n",
    "\n",
    "str.casefold()"
   ]
  },
  {
   "cell_type": "code",
   "execution_count": 44,
   "id": "specific-mineral",
   "metadata": {},
   "outputs": [
    {
     "data": {
      "text/plain": [
       "'python is awesome'"
      ]
     },
     "execution_count": 44,
     "metadata": {},
     "output_type": "execute_result"
    }
   ],
   "source": [
    "str = \"python is awesome\"\n",
    "\n",
    "str.casefold()"
   ]
  },
  {
   "cell_type": "code",
   "execution_count": 45,
   "id": "comic-commissioner",
   "metadata": {},
   "outputs": [
    {
     "name": "stdout",
     "output_type": "stream",
     "text": [
      "Matching\n"
     ]
    }
   ],
   "source": [
    "first_s = 'Hou De KHARCHA!!!'\n",
    "second_s = 'hou de kharcha!!!'\n",
    "\n",
    "\n",
    "if first_s.casefold() == second_s.casefold():\n",
    "    print('Matching')"
   ]
  },
  {
   "cell_type": "code",
   "execution_count": 51,
   "id": "frozen-pendant",
   "metadata": {},
   "outputs": [],
   "source": [
    "# count() - method returns the number of occurrences of a substring in the given string.\n",
    "\n",
    "# string.count(substring, start=..., end=...)\n"
   ]
  },
  {
   "cell_type": "markdown",
   "id": "absolute-interview",
   "metadata": {},
   "source": [
    "count() Parameters\n",
    "\n",
    "    -  count() method only requires a single parameter for execution. However, it also has two optional parameters:\n",
    "\n",
    "substring - string whose count is to be found.\n",
    "\n",
    "start (Optional) - starting index within the string where search starts.\n",
    "\n",
    "end (Optional) - ending index within the string where search ends."
   ]
  },
  {
   "cell_type": "code",
   "execution_count": 49,
   "id": "israeli-ridge",
   "metadata": {},
   "outputs": [
    {
     "data": {
      "text/plain": [
       "1"
      ]
     },
     "execution_count": 49,
     "metadata": {},
     "output_type": "execute_result"
    }
   ],
   "source": [
    "first_s = 'Hou De KHARCHA!!!'\n",
    "\n",
    "first_s.count('o')"
   ]
  },
  {
   "cell_type": "code",
   "execution_count": 55,
   "id": "ancient-spending",
   "metadata": {},
   "outputs": [
    {
     "data": {
      "text/plain": [
       "3"
      ]
     },
     "execution_count": 55,
     "metadata": {},
     "output_type": "execute_result"
    }
   ],
   "source": [
    "first_s = 'ABC DEF HIJK ABC AA HIK JIK ABC!!!'\n",
    "\n",
    "first_s.count('A',2,20)"
   ]
  },
  {
   "cell_type": "code",
   "execution_count": 56,
   "id": "cubic-doctor",
   "metadata": {},
   "outputs": [],
   "source": [
    "# startswith()"
   ]
  },
  {
   "cell_type": "code",
   "execution_count": 57,
   "id": "developed-compact",
   "metadata": {},
   "outputs": [
    {
     "data": {
      "text/plain": [
       "True"
      ]
     },
     "execution_count": 57,
     "metadata": {},
     "output_type": "execute_result"
    }
   ],
   "source": [
    "first_s = 'ABC DEF HIJK ABC AA HIK JIK ABC!!!'\n",
    "\n",
    "first_s.startswith('A')"
   ]
  },
  {
   "cell_type": "code",
   "execution_count": 58,
   "id": "large-hobby",
   "metadata": {},
   "outputs": [
    {
     "data": {
      "text/plain": [
       "False"
      ]
     },
     "execution_count": 58,
     "metadata": {},
     "output_type": "execute_result"
    }
   ],
   "source": [
    "first_s = 'ABC DEF HIJK ABC AA HIK JIK ABC!!!'\n",
    "\n",
    "first_s.startswith('B')"
   ]
  },
  {
   "cell_type": "code",
   "execution_count": 59,
   "id": "modular-apple",
   "metadata": {},
   "outputs": [],
   "source": [
    "# endswith"
   ]
  },
  {
   "cell_type": "code",
   "execution_count": 60,
   "id": "amended-testing",
   "metadata": {},
   "outputs": [
    {
     "data": {
      "text/plain": [
       "False"
      ]
     },
     "execution_count": 60,
     "metadata": {},
     "output_type": "execute_result"
    }
   ],
   "source": [
    "first_s = 'ABC DEF HIJK ABC AA HIK JIK ABC!!!'\n",
    "\n",
    "first_s.endswith('A')"
   ]
  },
  {
   "cell_type": "code",
   "execution_count": 61,
   "id": "aware-petite",
   "metadata": {},
   "outputs": [
    {
     "data": {
      "text/plain": [
       "True"
      ]
     },
     "execution_count": 61,
     "metadata": {},
     "output_type": "execute_result"
    }
   ],
   "source": [
    "first_s = 'ABC DEF HIJK ABC AA HIK JIK ABC!!!'\n",
    "\n",
    "first_s.endswith('!')"
   ]
  },
  {
   "cell_type": "code",
   "execution_count": 62,
   "id": "operational-sixth",
   "metadata": {},
   "outputs": [],
   "source": [
    "# expandtabs() - \n",
    "    \n",
    "# returns a string where all '\\t' characters are replaced with whitespace characters \n",
    "# until the next multiple of tabsize parameter."
   ]
  },
  {
   "cell_type": "code",
   "execution_count": 64,
   "id": "crazy-middle",
   "metadata": {},
   "outputs": [
    {
     "data": {
      "text/plain": [
       "'ajaja\\\\hahah\\\\owwo\\\\###'"
      ]
     },
     "execution_count": 64,
     "metadata": {},
     "output_type": "execute_result"
    }
   ],
   "source": [
    "s = 'ajaja\\hahah\\owwo\\###'\n",
    "\n",
    "s.expandtabs()"
   ]
  },
  {
   "cell_type": "code",
   "execution_count": 65,
   "id": "genetic-curtis",
   "metadata": {},
   "outputs": [
    {
     "data": {
      "text/plain": [
       "'ajaja   hahah   owwo    ###'"
      ]
     },
     "execution_count": 65,
     "metadata": {},
     "output_type": "execute_result"
    }
   ],
   "source": [
    "s = 'ajaja\\thahah\\towwo\\t###'\n",
    "\n",
    "s.expandtabs()"
   ]
  },
  {
   "cell_type": "code",
   "execution_count": 66,
   "id": "supreme-aberdeen",
   "metadata": {},
   "outputs": [],
   "source": [
    "# encode()"
   ]
  },
  {
   "cell_type": "code",
   "execution_count": 67,
   "id": "stone-postcard",
   "metadata": {},
   "outputs": [
    {
     "data": {
      "text/plain": [
       "b'Python Programming'"
      ]
     },
     "execution_count": 67,
     "metadata": {},
     "output_type": "execute_result"
    }
   ],
   "source": [
    "t = 'Python Programming'\n",
    "\n",
    "t.encode()"
   ]
  },
  {
   "cell_type": "code",
   "execution_count": 68,
   "id": "clear-interaction",
   "metadata": {},
   "outputs": [
    {
     "data": {
      "text/plain": [
       "b'Hello, How are you?'"
      ]
     },
     "execution_count": 68,
     "metadata": {},
     "output_type": "execute_result"
    }
   ],
   "source": [
    "t = 'Hello, How are you?'\n",
    "\n",
    "t.encode()"
   ]
  },
  {
   "cell_type": "code",
   "execution_count": 69,
   "id": "falling-climb",
   "metadata": {},
   "outputs": [
    {
     "name": "stdout",
     "output_type": "stream",
     "text": [
      "The string is: pythön!\n"
     ]
    }
   ],
   "source": [
    "# unicode string\n",
    "string = 'pythön!'\n",
    "\n",
    "# print string\n",
    "print('The string is:', string)\n",
    "\n"
   ]
  },
  {
   "cell_type": "code",
   "execution_count": 70,
   "id": "disturbed-stylus",
   "metadata": {},
   "outputs": [],
   "source": [
    "# default encoding to utf-8\n",
    "string_utf = string.encode()\n",
    "\n"
   ]
  },
  {
   "cell_type": "code",
   "execution_count": 71,
   "id": "legitimate-turtle",
   "metadata": {},
   "outputs": [
    {
     "name": "stdout",
     "output_type": "stream",
     "text": [
      "The encoded version is: b'pyth\\xc3\\xb6n!'\n"
     ]
    }
   ],
   "source": [
    "# print result\n",
    "print('The encoded version is:', string_utf)"
   ]
  },
  {
   "cell_type": "code",
   "execution_count": 72,
   "id": "coastal-behalf",
   "metadata": {},
   "outputs": [],
   "source": [
    "# find() -  Only String\n",
    "\n",
    "#       - returns the index of first occurrence of the substring (if found).\n",
    "#       - If not found, it returns -1."
   ]
  },
  {
   "cell_type": "code",
   "execution_count": 73,
   "id": "empty-nerve",
   "metadata": {},
   "outputs": [
    {
     "data": {
      "text/plain": [
       "11"
      ]
     },
     "execution_count": 73,
     "metadata": {},
     "output_type": "execute_result"
    }
   ],
   "source": [
    "s = 'Let it be, let it be, let it be' \n",
    "\n",
    "s.find('let')\n",
    "\n"
   ]
  },
  {
   "cell_type": "code",
   "execution_count": 74,
   "id": "republican-passenger",
   "metadata": {},
   "outputs": [
    {
     "data": {
      "text/plain": [
       "11"
      ]
     },
     "execution_count": 74,
     "metadata": {},
     "output_type": "execute_result"
    }
   ],
   "source": [
    "s.index('let')"
   ]
  },
  {
   "cell_type": "code",
   "execution_count": 75,
   "id": "processed-grave",
   "metadata": {},
   "outputs": [
    {
     "ename": "ValueError",
     "evalue": "substring not found",
     "output_type": "error",
     "traceback": [
      "\u001b[1;31m---------------------------------------------------------------------------\u001b[0m",
      "\u001b[1;31mValueError\u001b[0m                                Traceback (most recent call last)",
      "\u001b[1;32m<ipython-input-75-b727d3398a36>\u001b[0m in \u001b[0;36m<module>\u001b[1;34m\u001b[0m\n\u001b[1;32m----> 1\u001b[1;33m \u001b[0ms\u001b[0m\u001b[1;33m.\u001b[0m\u001b[0mindex\u001b[0m\u001b[1;33m(\u001b[0m\u001b[1;34m'Z'\u001b[0m\u001b[1;33m)\u001b[0m\u001b[1;33m\u001b[0m\u001b[1;33m\u001b[0m\u001b[0m\n\u001b[0m",
      "\u001b[1;31mValueError\u001b[0m: substring not found"
     ]
    }
   ],
   "source": [
    "s.index('Z')"
   ]
  },
  {
   "cell_type": "code",
   "execution_count": 76,
   "id": "bulgarian-venezuela",
   "metadata": {},
   "outputs": [
    {
     "data": {
      "text/plain": [
       "-1"
      ]
     },
     "execution_count": 76,
     "metadata": {},
     "output_type": "execute_result"
    }
   ],
   "source": [
    "s.find('z')"
   ]
  },
  {
   "cell_type": "code",
   "execution_count": null,
   "id": "light-exclusive",
   "metadata": {},
   "outputs": [],
   "source": [
    "# find() With start and end Arguments"
   ]
  },
  {
   "cell_type": "code",
   "execution_count": 77,
   "id": "moving-scoop",
   "metadata": {},
   "outputs": [
    {
     "name": "stdout",
     "output_type": "stream",
     "text": [
      "-1\n"
     ]
    }
   ],
   "source": [
    "quote = 'Do small things with great love'\n",
    "\n",
    "# Substring is searched in 'hings with great love'\n",
    "\n",
    "print(quote.find('small things', 10))"
   ]
  },
  {
   "cell_type": "code",
   "execution_count": 78,
   "id": "discrete-heath",
   "metadata": {},
   "outputs": [
    {
     "name": "stdout",
     "output_type": "stream",
     "text": [
      "16\n"
     ]
    }
   ],
   "source": [
    "print(quote.find('with', 10))"
   ]
  },
  {
   "cell_type": "code",
   "execution_count": null,
   "id": "brown-range",
   "metadata": {},
   "outputs": [],
   "source": []
  }
 ],
 "metadata": {
  "kernelspec": {
   "display_name": "Python 3",
   "language": "python",
   "name": "python3"
  },
  "language_info": {
   "codemirror_mode": {
    "name": "ipython",
    "version": 3
   },
   "file_extension": ".py",
   "mimetype": "text/x-python",
   "name": "python",
   "nbconvert_exporter": "python",
   "pygments_lexer": "ipython3",
   "version": "3.8.5"
  }
 },
 "nbformat": 4,
 "nbformat_minor": 5
}
